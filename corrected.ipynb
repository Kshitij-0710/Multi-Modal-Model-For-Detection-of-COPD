{
 "cells": [
  {
   "cell_type": "code",
   "execution_count": 65,
   "metadata": {},
   "outputs": [],
   "source": [
    "import csv\n",
    "import pandas as pd\n",
    "import numpy as np\n",
    "import re\n"
   ]
  },
  {
   "cell_type": "code",
   "execution_count": null,
   "metadata": {},
   "outputs": [],
   "source": [
    "def text_to_csv(txt, output_file):\n",
    "    df = pd.read_fwf(txt)\n",
    "    df.to_csv(output_file)\n",
    "\n",
    "text_to_csv('DLCST_gss.txt', 'DLCST_gss.csv')\n",
    "text_to_csv('DLCST_kdei.txt', 'DLCST_kdei.csv')\n",
    "text_to_csv('DLCST_labels.txt', 'DLCST_labels.csv')\n"
   ]
  },
  {
   "cell_type": "code",
   "execution_count": 7,
   "metadata": {},
   "outputs": [],
   "source": [
    "gss_features=pd.read_csv(\"DLCST_gss.csv\",header=None)\n",
    "kdei_features=pd.read_csv(\"DLCST_kdei.csv\",header=None)\n",
    "labels=pd.read_csv(\"DLCST_labels.csv\",header=None)\n",
    "\n",
    "gss_features=gss_features.dropna()\n",
    "kdei_features=kdei_features.dropna()"
   ]
  },
  {
   "cell_type": "code",
   "execution_count": 8,
   "metadata": {},
   "outputs": [
    {
     "data": {
      "text/html": [
       "<div>\n",
       "<style scoped>\n",
       "    .dataframe tbody tr th:only-of-type {\n",
       "        vertical-align: middle;\n",
       "    }\n",
       "\n",
       "    .dataframe tbody tr th {\n",
       "        vertical-align: top;\n",
       "    }\n",
       "\n",
       "    .dataframe thead th {\n",
       "        text-align: right;\n",
       "    }\n",
       "</style>\n",
       "<table border=\"1\" class=\"dataframe\">\n",
       "  <thead>\n",
       "    <tr style=\"text-align: right;\">\n",
       "      <th></th>\n",
       "      <th>0</th>\n",
       "      <th>1</th>\n",
       "    </tr>\n",
       "  </thead>\n",
       "  <tbody>\n",
       "    <tr>\n",
       "      <th>0</th>\n",
       "      <td>-1</td>\n",
       "      <td>0.00012047225122480122,0.0011946831579792787,0...</td>\n",
       "    </tr>\n",
       "    <tr>\n",
       "      <th>1</th>\n",
       "      <td>0</td>\n",
       "      <td>0.00041810275875107255,0.0016724110350042902,0...</td>\n",
       "    </tr>\n",
       "    <tr>\n",
       "      <th>2</th>\n",
       "      <td>1</td>\n",
       "      <td>0.0001004520341536916,0.0011719403984597355,0....</td>\n",
       "    </tr>\n",
       "    <tr>\n",
       "      <th>3</th>\n",
       "      <td>2</td>\n",
       "      <td>0.00042802629097082163,0.0025645304043760246,0...</td>\n",
       "    </tr>\n",
       "    <tr>\n",
       "      <th>4</th>\n",
       "      <td>3</td>\n",
       "      <td>0.00062764041831151742,0.0033156728305284303,0...</td>\n",
       "    </tr>\n",
       "  </tbody>\n",
       "</table>\n",
       "</div>"
      ],
      "text/plain": [
       "   0                                                  1\n",
       "0 -1  0.00012047225122480122,0.0011946831579792787,0...\n",
       "1  0  0.00041810275875107255,0.0016724110350042902,0...\n",
       "2  1  0.0001004520341536916,0.0011719403984597355,0....\n",
       "3  2  0.00042802629097082163,0.0025645304043760246,0...\n",
       "4  3  0.00062764041831151742,0.0033156728305284303,0..."
      ]
     },
     "execution_count": 8,
     "metadata": {},
     "output_type": "execute_result"
    }
   ],
   "source": [
    "gss_features.head()"
   ]
  },
  {
   "cell_type": "code",
   "execution_count": 16,
   "metadata": {},
   "outputs": [
    {
     "data": {
      "text/plain": [
       "320"
      ]
     },
     "execution_count": 16,
     "metadata": {},
     "output_type": "execute_result"
    }
   ],
   "source": [
    "len(gss_features.iloc[3][1].split(','))\n",
    "\n",
    "\n",
    "#Dimension of gss is 320"
   ]
  },
  {
   "cell_type": "code",
   "execution_count": 18,
   "metadata": {},
   "outputs": [
    {
     "data": {
      "text/plain": [
       "256"
      ]
     },
     "execution_count": 18,
     "metadata": {},
     "output_type": "execute_result"
    }
   ],
   "source": [
    "len(kdei_features.iloc[500][1].split(','))\n",
    "\n",
    "\n",
    "#dimension of kdei is 256"
   ]
  },
  {
   "cell_type": "code",
   "execution_count": 58,
   "metadata": {},
   "outputs": [],
   "source": [
    "step=100\n",
    "p_gss=gss_features.iloc[step:step+50][1]\n",
    "p_kdei=kdei_features.iloc[step:step+50][1]\n"
   ]
  },
  {
   "cell_type": "code",
   "execution_count": 62,
   "metadata": {},
   "outputs": [
    {
     "data": {
      "text/plain": [
       "320"
      ]
     },
     "execution_count": 62,
     "metadata": {},
     "output_type": "execute_result"
    }
   ],
   "source": [
    "len(p_gss[109].split(','))"
   ]
  },
  {
   "cell_type": "code",
   "execution_count": 95,
   "metadata": {},
   "outputs": [],
   "source": [
    "#Create 300X50X2X320\n",
    "step=0\n",
    "patients=list()\n",
    "for patient in range(600):\n",
    "\n",
    "    p_gss=gss_features.iloc[step:step+50][1]\n",
    "    p_kdei=kdei_features.iloc[step:step+50][1]\n",
    "\n",
    "    rois=list()\n",
    "    for k in range(step,step+50):\n",
    "        #print(k)\n",
    "        vals=p_gss[k].split(',')\n",
    "        vals_kdei=p_kdei[k].split(',')\n",
    "\n",
    "        vals=[x.replace('','0') for x in vals]\n",
    "        vals_kdei=[x.replace('','0') for x in vals_kdei]\n",
    "\n",
    "        vals=[re.sub('e0','e',x) for x in vals]\n",
    "        vals_kdei=[re.sub('e0','e',x) for x in vals_kdei]\n",
    "        \n",
    "        vals=np.array([float(i) for i in vals])\n",
    "        vals_kdei=np.array([float(i) for i in vals])\n",
    "\n",
    "        #Pad by median for KDEI\n",
    "        kdei_padded=np.pad(vals_kdei,(0,64),mode='median')\n",
    "\n",
    "        rois.append(np.stack((vals,vals_kdei),axis=0))\n",
    "   \n",
    "    patients.append(rois)\n",
    "    step+=50"
   ]
  },
  {
   "cell_type": "code",
   "execution_count": 88,
   "metadata": {},
   "outputs": [
    {
     "data": {
      "text/plain": [
       "600"
      ]
     },
     "execution_count": 88,
     "metadata": {},
     "output_type": "execute_result"
    }
   ],
   "source": [
    "len(patients)"
   ]
  },
  {
   "cell_type": "code",
   "execution_count": 93,
   "metadata": {},
   "outputs": [
    {
     "data": {
      "text/plain": [
       "(2, 320)"
      ]
     },
     "execution_count": 93,
     "metadata": {},
     "output_type": "execute_result"
    }
   ],
   "source": [
    "patients[0][0].shape"
   ]
  },
  {
   "cell_type": "code",
   "execution_count": null,
   "metadata": {},
   "outputs": [],
   "source": []
  }
 ],
 "metadata": {
  "kernelspec": {
   "display_name": ".venv",
   "language": "python",
   "name": "python3"
  },
  "language_info": {
   "codemirror_mode": {
    "name": "ipython",
    "version": 3
   },
   "file_extension": ".py",
   "mimetype": "text/x-python",
   "name": "python",
   "nbconvert_exporter": "python",
   "pygments_lexer": "ipython3",
   "version": "3.12.4"
  }
 },
 "nbformat": 4,
 "nbformat_minor": 2
}
